{
 "cells": [
  {
   "cell_type": "markdown",
   "metadata": {},
   "source": [
    "Bài tập: sử dụng Pandas và Seaborn thực hiện phân tích EDA cho dữ liệu bán \n",
    "hàng (supermarket_sales_vn.csv):\n",
    "- ❖  Đơn biến (phân tích trên 1 cột):\n",
    "-   Số đơn: so sánh tổng đơn theo chi nhánh, nhóm hàng, giới tính khách hàng, phương thức \n",
    "thanh toán (cột Payment)\n",
    "-   Mỗi đơn hàng có một số mặt hàng, vẽ phân bố số lượng đơn theo số mặt hàng (chẳng hạn \n",
    "các đơn hàng có 1,2,3... mặt hàng có số đơn là bao nhiêu?)\n",
    "-   Thời gian: ngày nào bận rộn nhất tuần? thời điểm nào bận rộn nhất trong ngày?\n",
    "- ❖  Đa biến (cần kết hợp 2 hay nhiều cột):\n",
    "-   Doanh thu: tỷ lệ tổng doanh thu theo chi nhánh, nhóm hàng, giới tính khách hàng\n",
    "-   Thuế: tương tự doanh thu\n",
    "-   Rating: so sánh rating giữa các nhóm hàng, giữa các ngày trong tuần, giới tính\n",
    "-   Xem xét mối tương quan giữa các biến dạng số"
   ]
  },
  {
   "cell_type": "code",
   "execution_count": null,
   "metadata": {},
   "outputs": [],
   "source": []
  }
 ],
 "metadata": {
  "language_info": {
   "name": "python"
  }
 },
 "nbformat": 4,
 "nbformat_minor": 2
}
